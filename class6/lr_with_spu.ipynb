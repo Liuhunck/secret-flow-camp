{
 "cells": [
  {
   "cell_type": "markdown",
   "id": "6d742657-8e6a-439d-a65a-3c76e73c8810",
   "metadata": {
    "libroFormatter": "formatter-string",
    "trusted": true
   },
   "source": [
    "# 逻辑回归 with SPU"
   ]
  },
  {
   "cell_type": "markdown",
   "id": "ff9c4ba5-a4a8-46ec-96e3-611ef5e71dc5",
   "metadata": {
    "libroFormatter": "formatter-string",
    "trusted": true
   },
   "source": [
    "[SPU](https://www.secretflow.org.cn/en/docs/spu/) 是一个特定领域的编译器和运行时套件，提供可证明的安全计算服务。SPU编译器使用 [XLA](https://www.tensorflow.org/xla) 作为前端IR，支持多种AI框架（如Tensorflow、JAX和PyTorch）。SPU 编译器将 XLA 转换为可由 SPU 运行时解释的 IR。 目前 SPU 团队强烈推荐使用 [JAX](https://github.com/google/jax) 作为前端。\n",
    "\n",
    "\n",
    "在本实验中，我们选择 [Breast Cancer](https://archive.ics.uci.edu/ml/datasets/breast+cancer+wisconsin+\\(diagnostic\\)) 作为数据集。 我们需要通过 30 个特征来判断癌症是恶性还是良性。 在 MPC 程序中，两方共同训练模型，每一方提供一半的特征（15）。\n",
    "\n",
    "While, first, let's just forget MPC settings and just write a Logistic Regression training program with JAX directly.\n",
    "\n",
    "首先，让我们忘记 MPC 语意，直接使用 JAX 编写逻辑回归训练程序。"
   ]
  },
  {
   "cell_type": "markdown",
   "id": "629aad7f",
   "metadata": {
    "libroFormatter": "formatter-string",
    "trusted": true
   },
   "source": [
    "## 训练一个模型 with JAX"
   ]
  },
  {
   "cell_type": "markdown",
   "id": "d9774618-798e-421f-9be0-4fb954d7c710",
   "metadata": {
    "libroFormatter": "formatter-string",
    "trusted": true
   },
   "source": [
    "### Load the Dataset\n",
    "\n",
    "We are going to split the whole dataset into train and test subsets after normalization with `breast_cancer`.\n",
    "\n",
    "- if `train` is `True`, returns train subsets. In order to simulate training with vertical dataset splitting, the `party_id` is provided.\n",
    "- else, returns test subsets.\n",
    "\n",
    "### 加载数据集\n",
    "\n",
    "我们将在使用“breast_cancer”标准化后将整个数据集拆分为训练和测试子集。 \n",
    "\n",
    "- 如果 `train` 是 `True`，返回训练子集，另外，为了模拟垂直数据集拆分的训练，还需要提供“party_id”参数。\n",
    "- 否则，返回测试子集。"
   ]
  },
  {
   "cell_type": "code",
   "execution_count": 1,
   "id": "364a380e-9cea-42e3-8ab5-06635df97478",
   "metadata": {
    "execution": {
     "parties": "[\"alice\",\"bob\"]",
     "shell.execute_reply.end": "2025-05-18T16:08:48.589965Z",
     "shell.execute_reply.started": "2025-05-18T16:08:47.905628Z",
     "to_execute": "2025-05-18T16:08:47.772Z"
    },
    "libroFormatter": "formatter-string",
    "tags": [],
    "trusted": true
   },
   "outputs": [],
   "source": [
    "import numpy as np\n",
    "from sklearn.datasets import load_breast_cancer\n",
    "from sklearn.model_selection import train_test_split\n",
    "from sklearn.preprocessing import Normalizer\n",
    "\n",
    "\n",
    "def breast_cancer(party_id=None, train: bool = True) -> (np.ndarray, np.ndarray):\n",
    "    x, y = load_breast_cancer(return_X_y=True)\n",
    "    x = (x - np.min(x)) / (np.max(x) - np.min(x))\n",
    "    x_train, x_test, y_train, y_test = train_test_split(\n",
    "        x, y, test_size=0.2, random_state=42\n",
    "    )\n",
    "\n",
    "    if train:\n",
    "        if party_id:\n",
    "            if party_id == 1:\n",
    "                return x_train[:, :15], _\n",
    "            else:\n",
    "                return x_train[:, 15:], y_train\n",
    "        else:\n",
    "            return x_train, y_train\n",
    "    else:\n",
    "        return x_test, y_test"
   ]
  },
  {
   "cell_type": "markdown",
   "id": "fb400b1f-f516-4348-8812-e05a2e8f5e17",
   "metadata": {
    "libroFormatter": "formatter-string",
    "tags": [],
    "trusted": true
   },
   "source": [
    "### Define the Model\n",
    "\n",
    "First, let's define the loss function, which is a negative log-likelihood in our case.\n",
    "\n",
    "### 定义模型\n",
    "\n",
    "定义损失函数，在我们的例子中它是一个负对数似然。"
   ]
  },
  {
   "cell_type": "code",
   "execution_count": 2,
   "id": "0ffb9d32-4150-41cb-a6e9-65cbccf6568a",
   "metadata": {
    "execution": {
     "parties": "[\"alice\",\"bob\"]",
     "shell.execute_reply.end": "2025-05-18T16:08:48.941573Z",
     "shell.execute_reply.started": "2025-05-18T16:08:48.452776Z",
     "to_execute": "2025-05-18T16:08:47.773Z"
    },
    "libroFormatter": "formatter-string",
    "trusted": true
   },
   "outputs": [],
   "source": [
    "import jax.numpy as jnp\n",
    "\n",
    "\n",
    "def sigmoid(x):\n",
    "    return 1 / (1 + jnp.exp(-x))\n",
    "\n",
    "\n",
    "# Outputs probability of a label being true.\n",
    "def predict(W, b, inputs):\n",
    "    return sigmoid(jnp.dot(inputs, W) + b)\n",
    "\n",
    "\n",
    "# Training loss is the negative log-likelihood of the training examples.\n",
    "def loss(W, b, inputs, targets):\n",
    "    preds = predict(W, b, inputs)\n",
    "    label_probs = preds * targets + (1 - preds) * (1 - targets)\n",
    "    return -jnp.mean(jnp.log(label_probs))"
   ]
  },
  {
   "cell_type": "markdown",
   "id": "7eaaf2b4-6491-471a-85fb-d63236e4a564",
   "metadata": {
    "libroFormatter": "formatter-string",
    "trusted": true
   },
   "source": [
    "Second, let's define a single train step with SGD optimizer. Just to remind you, x1 represents 15 features from one party while x2 represents the other 15 features from the other party.\n",
    "\n",
    "其次，让我们使用 SGD 优化器定义单个训练步骤。 提醒一下，x1 代表来自一方的 15 个特征，而 x2 代表来自另一方的其他 15 个特征。"
   ]
  },
  {
   "cell_type": "code",
   "execution_count": 3,
   "id": "71e01788-804f-4378-a268-b84c3940320a",
   "metadata": {
    "execution": {
     "parties": "[\"alice\",\"bob\"]",
     "shell.execute_reply.end": "2025-05-18T16:08:48.946843Z",
     "shell.execute_reply.started": "2025-05-18T16:08:48.792626Z",
     "to_execute": "2025-05-18T16:08:47.775Z"
    },
    "libroFormatter": "formatter-string",
    "trusted": true
   },
   "outputs": [],
   "source": [
    "from jax import grad\n",
    "\n",
    "\n",
    "def train_step(W, b, x1, x2, y, learning_rate):\n",
    "    x = jnp.concatenate([x1, x2], axis=1)\n",
    "    Wb_grad = grad(loss, (0, 1))(W, b, x, y)\n",
    "    W -= learning_rate * Wb_grad[0]\n",
    "    b -= learning_rate * Wb_grad[1]\n",
    "    return W, b"
   ]
  },
  {
   "cell_type": "markdown",
   "id": "eac6baac-280c-44b4-b8a0-9a6eb3a76908",
   "metadata": {
    "libroFormatter": "formatter-string",
    "tags": [],
    "trusted": true
   },
   "source": [
    "Last, let's build everything together as a `fit` method which returns the model and losses of each epoch.\n",
    "\n",
    "最后，让我们将所有内容构建为“fit”方法，该方法返回每个epoch的模型和损失。"
   ]
  },
  {
   "cell_type": "code",
   "execution_count": 4,
   "id": "f15b0c71-5761-41aa-b70d-9ba242f8a795",
   "metadata": {
    "execution": {
     "parties": "[\"alice\",\"bob\"]",
     "shell.execute_reply.end": "2025-05-18T16:08:48.952932Z",
     "shell.execute_reply.started": "2025-05-18T16:08:48.800560Z",
     "to_execute": "2025-05-18T16:08:47.776Z"
    },
    "libroFormatter": "formatter-string",
    "tags": [],
    "trusted": true
   },
   "outputs": [],
   "source": [
    "def fit(W, b, x1, x2, y, epochs=1, learning_rate=1e-2):\n",
    "    for _ in range(epochs):\n",
    "        W, b = train_step(W, b, x1, x2, y, learning_rate=learning_rate)\n",
    "    return W, b"
   ]
  },
  {
   "cell_type": "markdown",
   "id": "5dd8abd5",
   "metadata": {
    "libroFormatter": "formatter-string",
    "trusted": true
   },
   "source": [
    "### Validate the Model\n",
    "\n",
    "We could use the AUC to validate a binary classification model.\n",
    "\n",
    "### 验证模型[​](https://www.secretflow.org.cn/zh-CN/docs/secretflow/v1.12.0b0/tutorial/lr_with_spu#验证模型)\n",
    "\n",
    "我们可以使用 AUC 来验证二元分类模型。"
   ]
  },
  {
   "cell_type": "code",
   "execution_count": 5,
   "id": "132fcee4",
   "metadata": {
    "execution": {
     "parties": "[\"alice\",\"bob\"]",
     "shell.execute_reply.end": "2025-05-18T16:08:48.957512Z",
     "shell.execute_reply.started": "2025-05-18T16:08:48.809148Z",
     "to_execute": "2025-05-18T16:08:47.776Z"
    },
    "libroFormatter": "formatter-string",
    "trusted": true
   },
   "outputs": [],
   "source": [
    "from sklearn.metrics import roc_auc_score\n",
    "\n",
    "\n",
    "def validate_model(W, b, X_test, y_test):\n",
    "    y_pred = predict(W, b, X_test)\n",
    "    return roc_auc_score(y_test, y_pred)"
   ]
  },
  {
   "cell_type": "markdown",
   "id": "581fac73",
   "metadata": {
    "libroFormatter": "formatter-string",
    "trusted": true
   },
   "source": [
    "### 试试！[​](https://www.secretflow.org.cn/zh-CN/docs/secretflow/v1.12.0b0/tutorial/lr_with_spu#试试！)\n",
    "\n",
    "把所有的东西放在一起，训练一个 LR 模型"
   ]
  },
  {
   "cell_type": "code",
   "execution_count": 6,
   "id": "ad002d29",
   "metadata": {
    "execution": {
     "parties": "[\"alice\",\"bob\"]",
     "shell.execute_reply.end": "2025-05-18T16:08:49.829822Z",
     "shell.execute_reply.started": "2025-05-18T16:08:48.817412Z",
     "to_execute": "2025-05-18T16:08:47.778Z"
    },
    "libroFormatter": "formatter-string",
    "trusted": true
   },
   "outputs": [
    {
     "data": {
      "text/html": [
       "<h4>alice 的输出</h4>"
      ]
     },
     "metadata": {},
     "output_type": "display_data"
    },
    {
     "name": "stdout",
     "output_type": "stream",
     "text": [
      "auc=0.9878807730101539\n"
     ]
    },
    {
     "data": {
      "text/html": [
       "<h4>bob 的输出</h4>"
      ]
     },
     "metadata": {},
     "output_type": "display_data"
    },
    {
     "name": "stdout",
     "output_type": "stream",
     "text": [
      "auc=0.9878807730101539\n"
     ]
    }
   ],
   "source": [
    "# Load the data\n",
    "x1, _ = breast_cancer(party_id=1, train=True)\n",
    "x2, y = breast_cancer(party_id=2, train=True)\n",
    "\n",
    "# Hyperparameter\n",
    "W = jnp.zeros((30,))\n",
    "b = 0.0\n",
    "epochs = 10\n",
    "learning_rate = 1e-2\n",
    "\n",
    "# Train the model\n",
    "W, b = fit(W, b, x1, x2, y, epochs=epochs, learning_rate=learning_rate)\n",
    "\n",
    "# Validate the model\n",
    "X_test, y_test = breast_cancer(train=False)\n",
    "auc = validate_model(W, b, X_test, y_test)\n",
    "print(f'auc={auc}')"
   ]
  },
  {
   "cell_type": "markdown",
   "id": "e5c4d4b1",
   "metadata": {
    "libroFormatter": "formatter-string",
    "trusted": true
   },
   "source": [
    "## Train a Model with SPU\n",
    "\n",
    "At this part, we are going to show you how to do the similar training with MPC securely!\n",
    "\n",
    "## 使用 SPU 训练模型[​](https://www.secretflow.org.cn/zh-CN/docs/secretflow/v1.12.0b0/tutorial/lr_with_spu#使用-SPU-训练模型)\n",
    "\n",
    "在这一部分，我们将向您展示如何安全地使用 MPC 进行类似的训练！"
   ]
  },
  {
   "cell_type": "markdown",
   "id": "8fe0ded7-d861-4506-9b87-4342629a8c5e",
   "metadata": {
    "libroFormatter": "formatter-string",
    "trusted": true
   },
   "source": [
    "### Init the Environment\n",
    "\n",
    "We are going to init three virtual devices on our physical environment.\n",
    "\n",
    "- alice, bob：Two PYU devices for local plaintext computation.\n",
    "- spu：SPU device consists with alice and bob for MPC secure computation.\n",
    "\n",
    "#### 初始化环境[​](https://www.secretflow.org.cn/zh-CN/docs/secretflow/v1.12.0b0/tutorial/lr_with_spu#初始化环境)\n",
    "\n",
    "在物理环境中初始化三个虚拟设备。 \n",
    "\n",
    "- alice, bob：两个用于本地明文计算的 PYU 设备。\n",
    "- spu：SPU 设备由 alice 和 bob 组成，用于 MPC 安全计算。"
   ]
  },
  {
   "cell_type": "code",
   "execution_count": 7,
   "id": "14c4f276-7eb0-4dd9-a39b-06b588bcc5bf",
   "metadata": {
    "execution": {
     "parties": "[\"alice\",\"bob\"]",
     "shell.execute_reply.end": "2025-05-18T16:08:56.295748Z",
     "shell.execute_reply.started": "2025-05-18T16:08:49.685446Z",
     "to_execute": "2025-05-18T16:08:47.779Z"
    },
    "libroFormatter": "formatter-string",
    "tags": [],
    "trusted": true
   },
   "outputs": [
    {
     "data": {
      "text/html": [
       "<h4>alice 的输出</h4>"
      ]
     },
     "metadata": {},
     "output_type": "display_data"
    },
    {
     "name": "stderr",
     "output_type": "stream",
     "text": [
      "Since the GPL-licensed package `unidecode` is not installed, using Python's `unicodedata` package which yields worse results.\n"
     ]
    },
    {
     "name": "stdout",
     "output_type": "stream",
     "text": [
      "The version of SecretFlow: 1.9.0b0\n"
     ]
    },
    {
     "name": "stderr",
     "output_type": "stream",
     "text": [
      "/usr/local/lib/python3.10/subprocess.py:1796: RuntimeWarning: os.fork() was called. os.fork() is incompatible with multithreaded code, and JAX is multithreaded, so this will likely lead to a deadlock.\n",
      "  self.pid = _posixsubprocess.fork_exec(\n",
      "2025-05-18 16:08:53,580\tWARNING services.py:1996 -- WARNING: The object store is using /tmp instead of /dev/shm because /dev/shm has only 67108864 bytes available. This will harm performance! You may be able to free up space by deleting files in /dev/shm. If you are inside a Docker container, you can increase /dev/shm size by passing '--shm-size=0.90gb' to 'docker run' (or add it to the run_options list in a Ray cluster config). Make sure to set this to more than 30% of available RAM.\n",
      "2025-05-18 16:08:54,787\tINFO worker.py:1724 -- Started a local Ray instance.\n"
     ]
    },
    {
     "data": {
      "text/html": [
       "<h4>bob 的输出</h4>"
      ]
     },
     "metadata": {},
     "output_type": "display_data"
    },
    {
     "name": "stderr",
     "output_type": "stream",
     "text": [
      "Since the GPL-licensed package `unidecode` is not installed, using Python's `unicodedata` package which yields worse results.\n"
     ]
    },
    {
     "name": "stdout",
     "output_type": "stream",
     "text": [
      "The version of SecretFlow: 1.9.0b0\n"
     ]
    },
    {
     "name": "stderr",
     "output_type": "stream",
     "text": [
      "/usr/local/lib/python3.10/subprocess.py:1796: RuntimeWarning: os.fork() was called. os.fork() is incompatible with multithreaded code, and JAX is multithreaded, so this will likely lead to a deadlock.\n",
      "  self.pid = _posixsubprocess.fork_exec(\n",
      "2025-05-18 16:08:53,421\tWARNING services.py:1996 -- WARNING: The object store is using /tmp instead of /dev/shm because /dev/shm has only 67108864 bytes available. This will harm performance! You may be able to free up space by deleting files in /dev/shm. If you are inside a Docker container, you can increase /dev/shm size by passing '--shm-size=1.02gb' to 'docker run' (or add it to the run_options list in a Ray cluster config). Make sure to set this to more than 30% of available RAM.\n",
      "2025-05-18 16:08:53,625\tINFO worker.py:1724 -- Started a local Ray instance.\n"
     ]
    }
   ],
   "source": [
    "import secretflow as sf\n",
    "\n",
    "# Check the version of your SecretFlow\n",
    "print('The version of SecretFlow: {}'.format(sf.__version__))\n",
    "\n",
    "# In case you have a running secretflow runtime already.\n",
    "sf.shutdown()\n",
    "\n",
    "sf.init(['alice', 'bob'], address='local')\n",
    "\n",
    "alice, bob = sf.PYU('alice'), sf.PYU('bob')\n",
    "spu = sf.SPU(sf.utils.testing.cluster_def(['alice', 'bob']))"
   ]
  },
  {
   "cell_type": "markdown",
   "id": "cecb025b",
   "metadata": {
    "libroFormatter": "formatter-string",
    "trusted": true
   },
   "source": [
    "### Load the Dataset\n",
    "\n",
    "we instruct alice and bob to load the train subset respectively.\n",
    "\n",
    "### 加载数据集[​](https://www.secretflow.org.cn/zh-CN/docs/secretflow/v1.12.0b0/tutorial/lr_with_spu#id1)\n",
    "\n",
    "我们指示 alice 和 bob 分别加载训练子集。"
   ]
  },
  {
   "cell_type": "code",
   "execution_count": 8,
   "id": "149864cc-ea35-4f3e-bb7a-2247ef835ea8",
   "metadata": {
    "execution": {
     "parties": "[\"alice\",\"bob\"]",
     "shell.execute_reply.end": "2025-05-18T16:08:56.347879Z",
     "shell.execute_reply.started": "2025-05-18T16:08:55.516147Z",
     "to_execute": "2025-05-18T16:08:47.780Z"
    },
    "libroFormatter": "formatter-string",
    "tags": [],
    "trusted": true
   },
   "outputs": [
    {
     "data": {
      "text/html": [
       "<h4>alice 的输出</h4>"
      ]
     },
     "metadata": {},
     "output_type": "display_data"
    },
    {
     "data": {
      "text/plain": [
       "(<secretflow.device.device.pyu.PYUObject at 0x7fa81d78ebf0>,\n",
       " <secretflow.device.device.pyu.PYUObject at 0x7fa81d78ece0>,\n",
       " <secretflow.device.device.pyu.PYUObject at 0x7fa7e40f1780>)"
      ]
     },
     "execution_count": 8,
     "metadata": {},
     "output_type": "execute_result"
    },
    {
     "data": {
      "text/html": [
       "<h4>bob 的输出</h4>"
      ]
     },
     "metadata": {},
     "output_type": "display_data"
    },
    {
     "data": {
      "text/plain": [
       "(<secretflow.device.device.pyu.PYUObject at 0x7f5d281cad10>,\n",
       " <secretflow.device.device.pyu.PYUObject at 0x7f5d281cbbb0>,\n",
       " <secretflow.device.device.pyu.PYUObject at 0x7f5d281cabf0>)"
      ]
     },
     "execution_count": 8,
     "metadata": {},
     "output_type": "execute_result"
    }
   ],
   "source": [
    "x1, _ = alice(breast_cancer)(party_id=1)\n",
    "x2, y = bob(breast_cancer)(party_id=2)\n",
    "\n",
    "x1, x2, y"
   ]
  },
  {
   "cell_type": "markdown",
   "id": "019e3f74-cfa8-458b-b3ca-6d3431d0e64d",
   "metadata": {
    "libroFormatter": "formatter-string",
    "trusted": true
   },
   "source": [
    "Before training, we need to pass hyperparamters and all data to SPU device. SecretFlow provides two methods:\n",
    "\n",
    "- secretflow.to: transfer a PythonObject or DeviceObject to a specific device.\n",
    "- DeviceObject.to: transfer the DeviceObject to a specific device.\n",
    "\n",
    "训练之前，需要将超参数和所有数据传递给 SPU 设备。\n",
    "\n",
    "SecretFlow 提供两种方法： \n",
    "\n",
    "- [secretflow.to](http://secretflow.to)：将 PythonObject 或 DeviceObject 传输到特定设备。 \n",
    "- [DeviceObject.to](http://DeviceObject.to)：将 DeviceObject 传输到特定设备。"
   ]
  },
  {
   "cell_type": "code",
   "execution_count": 9,
   "id": "a899ee65-a963-4f75-b5bf-e97ed885b52f",
   "metadata": {
    "execution": {
     "parties": "[\"alice\",\"bob\"]",
     "shell.execute_reply.end": "2025-05-18T16:09:06.287038Z",
     "shell.execute_reply.started": "2025-05-18T16:08:55.678746Z",
     "to_execute": "2025-05-18T16:08:47.780Z"
    },
    "jupyter": {
     "outputs_hidden": true
    },
    "libroFormatter": "formatter-string",
    "tags": [],
    "trusted": true
   },
   "outputs": [
    {
     "data": {
      "text/html": [
       "<h4>alice 的输出</h4>"
      ]
     },
     "metadata": {},
     "output_type": "display_data"
    },
    {
     "name": "stderr",
     "output_type": "stream",
     "text": [
      "\u001b[36m(pid=1801)\u001b[0m Since the GPL-licensed package `unidecode` is not installed, using Python's `unicodedata` package which yields worse results.\n",
      "\u001b[36m(_run pid=1727)\u001b[0m INFO:jax._src.xla_bridge:Unable to initialize backend 'cuda': \n",
      "\u001b[36m(_run pid=1727)\u001b[0m INFO:jax._src.xla_bridge:Unable to initialize backend 'rocm': module 'jaxlib.xla_extension' has no attribute 'GpuAllocatorConfig'\n",
      "\u001b[36m(_run pid=1727)\u001b[0m INFO:jax._src.xla_bridge:Unable to initialize backend 'tpu': INTERNAL: Failed to open libtpu.so: libtpu.so: cannot open shared object file: No such file or directory\n",
      "\u001b[36m(pid=1848)\u001b[0m Since the GPL-licensed package `unidecode` is not installed, using Python's `unicodedata` package which yields worse results.\u001b[32m [repeated 4x across cluster] (Ray deduplicates logs by default. Set RAY_DEDUP_LOGS=0 to disable log deduplication, or see https://docs.ray.io/en/master/ray-observability/ray-logging.html#log-deduplication for more options.)\u001b[0m\n"
     ]
    },
    {
     "data": {
      "text/html": [
       "<h4>bob 的输出</h4>"
      ]
     },
     "metadata": {},
     "output_type": "display_data"
    },
    {
     "name": "stderr",
     "output_type": "stream",
     "text": [
      "\u001b[36m(pid=1627)\u001b[0m Since the GPL-licensed package `unidecode` is not installed, using Python's `unicodedata` package which yields worse results.\n",
      "\u001b[36m(_run pid=1660)\u001b[0m INFO:jax._src.xla_bridge:Unable to initialize backend 'cuda': \n",
      "\u001b[36m(_run pid=1660)\u001b[0m INFO:jax._src.xla_bridge:Unable to initialize backend 'rocm': module 'jaxlib.xla_extension' has no attribute 'GpuAllocatorConfig'\n",
      "\u001b[36m(_run pid=1660)\u001b[0m INFO:jax._src.xla_bridge:Unable to initialize backend 'tpu': INTERNAL: Failed to open libtpu.so: libtpu.so: cannot open shared object file: No such file or directory\n",
      "\u001b[36m(pid=1660)\u001b[0m Since the GPL-licensed package `unidecode` is not installed, using Python's `unicodedata` package which yields worse results.\u001b[32m [repeated 4x across cluster] (Ray deduplicates logs by default. Set RAY_DEDUP_LOGS=0 to disable log deduplication, or see https://docs.ray.io/en/master/ray-observability/ray-logging.html#log-deduplication for more options.)\u001b[0m\n"
     ]
    }
   ],
   "source": [
    "device = spu\n",
    "\n",
    "W = jnp.zeros((30,))\n",
    "b = 0.0\n",
    "\n",
    "### x1, x2, y已经在alice和bob上了\n",
    "W_, b_, x1_, x2_, y_ = (\n",
    "    sf.to(alice, W).to(device),\n",
    "    sf.to(alice, b).to(device),\n",
    "    x1.to(device),\n",
    "    x2.to(device),\n",
    "    y.to(device),\n",
    ")"
   ]
  },
  {
   "cell_type": "markdown",
   "id": "71fabe33-8a83-4cd7-97ef-66743ce4d492",
   "metadata": {
    "libroFormatter": "formatter-string",
    "trusted": true
   },
   "source": [
    "### Train the model\n",
    "\n",
    "Now we are ready to train a LR model with SPU. After training, losses and model are SPUObjects which are still secret.\n",
    "\n",
    "### 训练模型[​](https://www.secretflow.org.cn/zh-CN/docs/secretflow/v1.12.0b0/tutorial/lr_with_spu#训练模型)\n",
    "\n",
    "现在我们准备好用 SPU 训练一个 LR 模型。 经过训练，损失和模型是仍然保密的 SPU 对象。\n",
    "\n",
    "指定 static_argnames 用于 jit 优化"
   ]
  },
  {
   "cell_type": "code",
   "execution_count": 10,
   "id": "d2b3a1a2-f12d-4fe7-bea5-5a6e4faf01ab",
   "metadata": {
    "execution": {
     "parties": "[\"alice\",\"bob\"]",
     "shell.execute_reply.end": "2025-05-18T16:09:06.322278Z",
     "shell.execute_reply.started": "2025-05-18T16:09:05.591517Z",
     "to_execute": "2025-05-18T16:08:47.781Z"
    },
    "libroFormatter": "formatter-string",
    "trusted": true
   },
   "outputs": [
    {
     "data": {
      "text/html": [
       "<h4>alice 的输出</h4>"
      ]
     },
     "metadata": {},
     "output_type": "display_data"
    },
    {
     "data": {
      "text/plain": [
       "(<secretflow.device.device.spu.SPUObject at 0x7fa76c7bdb40>,\n",
       " <secretflow.device.device.spu.SPUObject at 0x7fa76c7bf130>)"
      ]
     },
     "execution_count": 10,
     "metadata": {},
     "output_type": "execute_result"
    },
    {
     "data": {
      "text/html": [
       "<h4>bob 的输出</h4>"
      ]
     },
     "metadata": {},
     "output_type": "display_data"
    },
    {
     "name": "stderr",
     "output_type": "stream",
     "text": [
      "\u001b[36m(_run pid=1548)\u001b[0m INFO:jax._src.xla_bridge:Unable to initialize backend 'cuda': \n",
      "\u001b[36m(_run pid=1548)\u001b[0m INFO:jax._src.xla_bridge:Unable to initialize backend 'rocm': module 'jaxlib.xla_extension' has no attribute 'GpuAllocatorConfig'\n",
      "\u001b[36m(_run pid=1548)\u001b[0m INFO:jax._src.xla_bridge:Unable to initialize backend 'tpu': INTERNAL: Failed to open libtpu.so: libtpu.so: cannot open shared object file: No such file or directory\n"
     ]
    },
    {
     "data": {
      "text/plain": [
       "(<secretflow.device.device.spu.SPUObject at 0x7f5c63fd0ac0>,\n",
       " <secretflow.device.device.spu.SPUObject at 0x7f5c63fd3190>)"
      ]
     },
     "execution_count": 10,
     "metadata": {},
     "output_type": "execute_result"
    }
   ],
   "source": [
    "W_, b_ = device(\n",
    "    fit,\n",
    "    static_argnames=['epochs'],\n",
    "    num_returns_policy=sf.device.SPUCompilerNumReturnsPolicy.FROM_USER,\n",
    "    user_specified_num_returns=2,\n",
    ")(W_, b_, x1_, x2_, y_, epochs=epochs, learning_rate=learning_rate)\n",
    "\n",
    "W_, b_"
   ]
  },
  {
   "cell_type": "markdown",
   "id": "ea3a5d7b-f16d-4330-a96f-5a4f6b0a2996",
   "metadata": {
    "libroFormatter": "formatter-string",
    "trusted": true
   },
   "source": [
    "### Reveal the result\n",
    "\n",
    "In order to check the trained model, we need to convert SPUObject(secret) to Python object(plaintext). SecretFlow provide `sf.reveal` to convert any DeviceObject to Python object.\n",
    "\n",
    "### 揭示结果[​](https://www.secretflow.org.cn/zh-CN/docs/secretflow/v1.12.0b0/tutorial/lr_with_spu#揭示结果)\n",
    "\n",
    "为了检查训练的模型，我们需要将 SPUObject(secret) 转换为 Python object(明文)。 SecretFlow 提供 `sf.reveal` 将任何 DeviceObject 转换为 Python object。\n",
    "\n",
    "> 请小心使用 `sf.reveal`，因为它可能导致秘密泄露。\n",
    "\n",
    "> Be care with `sf.reveal`，since it may result in secret leak。"
   ]
  },
  {
   "cell_type": "markdown",
   "id": "a58ff0dc-e2ac-4dfe-b562-4f3e42059c02",
   "metadata": {
    "libroFormatter": "formatter-string",
    "trusted": true
   },
   "source": [
    "最后，用 AUC 验证模型。"
   ]
  },
  {
   "cell_type": "code",
   "execution_count": 11,
   "id": "9bdffb27-4a44-4ee6-ab00-30d1b906fb38",
   "metadata": {
    "execution": {
     "parties": "[\"alice\",\"bob\"]",
     "shell.execute_reply.end": "2025-05-18T16:09:09.507375Z",
     "shell.execute_reply.started": "2025-05-18T16:09:05.625860Z",
     "to_execute": "2025-05-18T16:08:47.782Z"
    },
    "jupyter": {
     "outputs_hidden": true
    },
    "libroFormatter": "formatter-string",
    "tags": [],
    "trusted": true
   },
   "outputs": [
    {
     "data": {
      "text/html": [
       "<h4>alice 的输出</h4>"
      ]
     },
     "metadata": {},
     "output_type": "display_data"
    },
    {
     "name": "stderr",
     "output_type": "stream",
     "text": [
      "\u001b[36m(_run pid=1728)\u001b[0m INFO:jax._src.xla_bridge:Unable to initialize backend 'cuda': \n",
      "\u001b[36m(_run pid=1728)\u001b[0m INFO:jax._src.xla_bridge:Unable to initialize backend 'rocm': module 'jaxlib.xla_extension' has no attribute 'GpuAllocatorConfig'\n",
      "\u001b[36m(_run pid=1728)\u001b[0m INFO:jax._src.xla_bridge:Unable to initialize backend 'tpu': INTERNAL: Failed to open libtpu.so: libtpu.so: cannot open shared object file: No such file or directory\n"
     ]
    },
    {
     "name": "stdout",
     "output_type": "stream",
     "text": [
      "auc=0.987880773010154\n"
     ]
    },
    {
     "data": {
      "text/html": [
       "<h4>bob 的输出</h4>"
      ]
     },
     "metadata": {},
     "output_type": "display_data"
    },
    {
     "name": "stdout",
     "output_type": "stream",
     "text": [
      "auc=0.987880773010154\n"
     ]
    }
   ],
   "source": [
    "auc = validate_model(sf.reveal(W_), sf.reveal(b_), X_test, y_test)\n",
    "print(f'auc={auc}')"
   ]
  },
  {
   "cell_type": "markdown",
   "id": "ac49ff9c",
   "metadata": {
    "libroFormatter": "formatter-string",
    "trusted": true
   },
   "source": [
    "SPU 训练程序中的模型达到了与 JAX 程序几乎相同的 AUC。"
   ]
  }
 ],
 "metadata": {
  "kernelspec": {
   "display_name": "Python 3 (ipykernel)",
   "language": "python",
   "name": "python3"
  },
  "language_info": {
   "codemirror_mode": {
    "name": "ipython",
    "version": 3
   },
   "file_extension": ".py",
   "mimetype": "text/x-python",
   "name": "python",
   "nbconvert_exporter": "python",
   "pygments_lexer": "ipython3",
   "version": "3.8.15"
  },
  "vscode": {
   "interpreter": {
    "hash": "de4c945f5346493decaa0ea82289843a7da2415616b96b9f4b104111cc0c19ad"
   }
  }
 },
 "nbformat": 4,
 "nbformat_minor": 5
}
